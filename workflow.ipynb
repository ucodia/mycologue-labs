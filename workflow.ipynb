{
 "cells": [
  {
   "cell_type": "markdown",
   "id": "927f896a",
   "metadata": {},
   "source": [
    "# Mycologue Labs - Image to 3D workflow\n",
    "\n",
    "The following workflow demonstrates how to turn mulitple directories of images of a mushroom specimen into a high fidelity 3D models.\n",
    "\n",
    "This workflow does not include the processing of RAW images to color corrected JPG images, which is highly recommended for quality 3D model textures."
   ]
  },
  {
   "cell_type": "code",
   "execution_count": null,
   "id": "a9db1c4d",
   "metadata": {},
   "outputs": [],
   "source": [
    "# define the locations of each image directory to process\n",
    "# input_dirs = ['photos/20241023-2025-chanterelle']\n",
    "\n",
    "import os\n",
    "input_dirs = [os.path.join('photos', d) for d in os.listdir('photos') if os.path.isdir(os.path.join('photos', d))]\n",
    "\n",
    "print(f\"Directories to process: {input_dirs}\")"
   ]
  },
  {
   "cell_type": "markdown",
   "id": "dc7d60b4",
   "metadata": {},
   "source": [
    "## Step 1: Generate masks"
   ]
  },
  {
   "cell_type": "code",
   "execution_count": null,
   "id": "b5f3e862",
   "metadata": {},
   "outputs": [],
   "source": [
    "# generate masks for images\n",
    "for input_dir in input_dirs:\n",
    "    !python create-masks.py --input {input_dir}"
   ]
  },
  {
   "cell_type": "markdown",
   "id": "cc091b62",
   "metadata": {},
   "source": [
    "## Step 2a: Generate models (serial)"
   ]
  },
  {
   "cell_type": "code",
   "execution_count": null,
   "id": "4117d212",
   "metadata": {},
   "outputs": [],
   "source": [
    "# create realityscan project and export 3d model\n",
    "for input_dir in input_dirs:\n",
    "    !python create-models.py --input {input_dir} --output models"
   ]
  },
  {
   "cell_type": "markdown",
   "id": "c5ec7f0d",
   "metadata": {},
   "source": [
    "## Step 2b: Generate models (parallel)"
   ]
  },
  {
   "cell_type": "code",
   "execution_count": null,
   "id": "7015aa05",
   "metadata": {},
   "outputs": [],
   "source": [
    "# parrallelized model creation\n",
    "import sys, subprocess\n",
    "from concurrent.futures import ThreadPoolExecutor, as_completed\n",
    "from pathlib import Path\n",
    "\n",
    "# realityscan allows up to 4 concurrent processes\n",
    "max_workers = 4\n",
    "\n",
    "def run_model(input_dir):\n",
    "    input_dir = str(Path(input_dir).resolve())\n",
    "    cmd = [sys.executable, \"create-models.py\", \"--input\", input_dir, \"--output\", \"models\"]\n",
    "    cp = subprocess.run(cmd, capture_output=True, text=True)\n",
    "    if cp.returncode != 0:\n",
    "        raise RuntimeError(f\"returncode={cp.returncode}\\nSTDOUT:\\n{cp.stdout}\\nSTDERR:\\n{cp.stderr}\")\n",
    "    return input_dir, cp.returncode, cp.stdout\n",
    "\n",
    "with ThreadPoolExecutor(max_workers=max_workers) as executor:\n",
    "    futures = {executor.submit(run_model, d): d for d in input_dirs}\n",
    "    for fut in as_completed(futures):\n",
    "        d = futures[fut]\n",
    "        try:\n",
    "            idir, code, out = fut.result()\n",
    "            print(f\"✔ Finished {idir} (code {code})\")\n",
    "        except Exception as e:\n",
    "            print(f\"✘ Error on {d}:\\n{e}\")\n"
   ]
  },
  {
   "cell_type": "markdown",
   "id": "1336c839",
   "metadata": {},
   "source": [
    "## Step 3: Generate preview images and videos"
   ]
  },
  {
   "cell_type": "code",
   "execution_count": 1,
   "id": "028f2885",
   "metadata": {},
   "outputs": [
    {
     "name": "stdout",
     "output_type": "stream",
     "text": [
      "Previews to process: ['models\\\\20241003-1549-russula-brevipes.100k.glb', 'models\\\\20241003-1600-russula-brevipes.100k.glb', 'models\\\\20241003-1625-noid.100k.glb', 'models\\\\20241003-1637-noid.100k.glb', 'models\\\\20241003-1651-noid.100k.glb', 'models\\\\20241003-1706-noid.100k.glb', 'models\\\\20241003-1723-noid.100k.glb', 'models\\\\20241003-1734-noid.100k.glb', 'models\\\\20241003-1746-noid.100k.glb', 'models\\\\20241003-1810-tapinella-atrotomentosa.100k.glb', 'models\\\\20241003-1824-noid.100k.glb', 'models\\\\20241003-1847-noid.100k.glb', 'models\\\\20241004-1252-lobster.100k.glb', 'models\\\\20241004-1314-lobster.100k.glb', 'models\\\\20241004-1713-lobster.100k.glb', 'models\\\\20241004-1758-lobster.100k.glb', 'models\\\\20241004-1818-lobster.100k.glb', 'models\\\\20241004-1834-chanterelle.100k.glb', 'models\\\\20241004-2034-chanterelle.100k.glb', 'models\\\\20241004-2104-chanterelle.100k.glb', 'models\\\\20241004-2212-chanterelle.100k.glb', 'models\\\\20241004-2226-chanterelle.100k.glb', 'models\\\\20241008-1327-cauliflower.100k.glb', 'models\\\\20241008-1348-cauliflower.100k.glb', 'models\\\\20241011-1408-admirable-bolete.100k.glb', 'models\\\\20241011-1441-bitter-bolete.100k.glb', 'models\\\\20241011-1458-matsutake.100k.glb', 'models\\\\20241011-1815-helvela.100k.glb', 'models\\\\20241011-1848-hedgehog.100k.glb', 'models\\\\20241011-1923-hedgehog.100k.glb', 'models\\\\20241011-1952-lactarius.100k.glb', 'models\\\\20241011-2008-lactarius.100k.glb', 'models\\\\20241011-2026-hawkwing.100k.glb', 'models\\\\20241011-2047-noid.100k.glb', 'models\\\\20241011-2207-thricholoma.100k.glb', 'models\\\\20241011-2227-turbinellus.100k.glb', 'models\\\\20241011-2247-turbinellus.100k.glb', 'models\\\\20241011-2306-coral.100k.glb', 'models\\\\20241011-2328-clavaria.100k.glb', 'models\\\\20241011-2343-clavaria.100k.glb', 'models\\\\20241012-1152-jelly.100k.glb', 'models\\\\20241012-1225-coral.100k.glb', 'models\\\\20241021-2135-amanita.100k.glb', 'models\\\\20241022-1513-amanita.100k.glb', 'models\\\\20241022-1600-amanita.100k.glb', 'models\\\\20241022-2028-amanita.100k.glb', 'models\\\\20241022-2043-amanita.100k.glb', 'models\\\\20241023-2025-chanterelle.100k.glb', 'models\\\\20241024-1037-chanterelle.100k.glb', 'models\\\\20241024-1418-chanterelle.100k.glb', 'models\\\\20241024-1505-chanterelle.100k.glb', 'models\\\\20241024-1525-chanterelle.100k.glb', 'models\\\\20241024-1543-chanterelle.100k.glb', 'models\\\\20241024-1604-chanterelle.100k.glb', 'models\\\\20241024-1623-chanterelle.100k.glb', 'models\\\\20241024-1640-chanterelle.100k.glb', 'models\\\\20241024-1657-chanterelle.100k.glb', 'models\\\\20241024-1713-chanterelle.100k.glb', 'models\\\\20241024-1734-chanterelle.100k.glb', 'models\\\\20241024-1758-chanterelle.100k.glb']\n"
     ]
    }
   ],
   "source": [
    "import os\n",
    "input_models = [os.path.join('models', f) for f in os.listdir('models')\n",
    "                if f.lower().endswith('100k.glb') and os.path.isfile(os.path.join('models', f))]\n",
    "\n",
    "# input_models = ['models\\\\20241003-1549-russula-brevipes.100k.glb']\n",
    "\n",
    "print(f\"Previews to process: {input_models}\")"
   ]
  },
  {
   "cell_type": "code",
   "execution_count": null,
   "id": "c82bbcf2",
   "metadata": {},
   "outputs": [
    {
     "name": "stdout",
     "output_type": "stream",
     "text": [
      "Blender 4.5.3 LTS (hash 67807e1800cc built 2025-09-09 01:33:33)\n",
      "Error: Please select a file\n",
      "\n",
      "Blender quit\n"
     ]
    },
    {
     "name": "stderr",
     "output_type": "stream",
     "text": [
      "Traceback (most recent call last):\n",
      "  File \"c:\\Users\\ucodia\\mycologue\\create-preview.py\", line 76, in <module>\n",
      "    bpy.ops.import_scene.gltf(filepath=model_path)\n",
      "  File \"C:\\Program Files\\Blender Foundation\\Blender 4.5\\4.5\\scripts\\modules\\bpy\\ops.py\", line 109, in __call__\n",
      "    ret = _op_call(self.idname_py(), kw)\n",
      "          ^^^^^^^^^^^^^^^^^^^^^^^^^^^^^^\n",
      "RuntimeError: Error: Please select a file\n",
      "\n"
     ]
    },
    {
     "name": "stdout",
     "output_type": "stream",
     "text": [
      "Blender 4.5.3 LTS (hash 67807e1800cc built 2025-09-09 01:33:33)\n",
      "Error: Please select a file\n",
      "\n",
      "Blender quit\n"
     ]
    },
    {
     "name": "stderr",
     "output_type": "stream",
     "text": [
      "Traceback (most recent call last):\n",
      "  File \"c:\\Users\\ucodia\\mycologue\\create-preview.py\", line 76, in <module>\n",
      "    bpy.ops.import_scene.gltf(filepath=model_path)\n",
      "  File \"C:\\Program Files\\Blender Foundation\\Blender 4.5\\4.5\\scripts\\modules\\bpy\\ops.py\", line 109, in __call__\n",
      "    ret = _op_call(self.idname_py(), kw)\n",
      "          ^^^^^^^^^^^^^^^^^^^^^^^^^^^^^^\n",
      "RuntimeError: Error: Please select a file\n",
      "\n"
     ]
    },
    {
     "name": "stdout",
     "output_type": "stream",
     "text": [
      "Blender 4.5.3 LTS (hash 67807e1800cc built 2025-09-09 01:33:33)\n",
      "Error: Please select a file\n",
      "\n",
      "Blender quit\n"
     ]
    },
    {
     "name": "stderr",
     "output_type": "stream",
     "text": [
      "Traceback (most recent call last):\n",
      "  File \"c:\\Users\\ucodia\\mycologue\\create-preview.py\", line 76, in <module>\n",
      "    bpy.ops.import_scene.gltf(filepath=model_path)\n",
      "  File \"C:\\Program Files\\Blender Foundation\\Blender 4.5\\4.5\\scripts\\modules\\bpy\\ops.py\", line 109, in __call__\n",
      "    ret = _op_call(self.idname_py(), kw)\n",
      "          ^^^^^^^^^^^^^^^^^^^^^^^^^^^^^^\n",
      "RuntimeError: Error: Please select a file\n",
      "\n"
     ]
    },
    {
     "name": "stdout",
     "output_type": "stream",
     "text": [
      "Blender 4.5.3 LTS (hash 67807e1800cc built 2025-09-09 01:33:33)\n",
      "Error: Please select a file\n",
      "\n",
      "Blender quit\n"
     ]
    },
    {
     "name": "stderr",
     "output_type": "stream",
     "text": [
      "Traceback (most recent call last):\n",
      "  File \"c:\\Users\\ucodia\\mycologue\\create-preview.py\", line 76, in <module>\n",
      "    bpy.ops.import_scene.gltf(filepath=model_path)\n",
      "  File \"C:\\Program Files\\Blender Foundation\\Blender 4.5\\4.5\\scripts\\modules\\bpy\\ops.py\", line 109, in __call__\n",
      "    ret = _op_call(self.idname_py(), kw)\n",
      "          ^^^^^^^^^^^^^^^^^^^^^^^^^^^^^^\n",
      "RuntimeError: Error: Please select a file\n",
      "\n"
     ]
    },
    {
     "name": "stdout",
     "output_type": "stream",
     "text": [
      "Blender 4.5.3 LTS (hash 67807e1800cc built 2025-09-09 01:33:33)\n",
      "Error: Please select a file\n",
      "\n",
      "Blender quit\n"
     ]
    },
    {
     "name": "stderr",
     "output_type": "stream",
     "text": [
      "Traceback (most recent call last):\n",
      "  File \"c:\\Users\\ucodia\\mycologue\\create-preview.py\", line 76, in <module>\n",
      "    bpy.ops.import_scene.gltf(filepath=model_path)\n",
      "  File \"C:\\Program Files\\Blender Foundation\\Blender 4.5\\4.5\\scripts\\modules\\bpy\\ops.py\", line 109, in __call__\n",
      "    ret = _op_call(self.idname_py(), kw)\n",
      "          ^^^^^^^^^^^^^^^^^^^^^^^^^^^^^^\n",
      "RuntimeError: Error: Please select a file\n",
      "\n"
     ]
    },
    {
     "name": "stdout",
     "output_type": "stream",
     "text": [
      "Blender 4.5.3 LTS (hash 67807e1800cc built 2025-09-09 01:33:33)\n",
      "Error: Please select a file\n",
      "\n",
      "Blender quit\n"
     ]
    },
    {
     "name": "stderr",
     "output_type": "stream",
     "text": [
      "Traceback (most recent call last):\n",
      "  File \"c:\\Users\\ucodia\\mycologue\\create-preview.py\", line 76, in <module>\n",
      "    bpy.ops.import_scene.gltf(filepath=model_path)\n",
      "  File \"C:\\Program Files\\Blender Foundation\\Blender 4.5\\4.5\\scripts\\modules\\bpy\\ops.py\", line 109, in __call__\n",
      "    ret = _op_call(self.idname_py(), kw)\n",
      "          ^^^^^^^^^^^^^^^^^^^^^^^^^^^^^^\n",
      "RuntimeError: Error: Please select a file\n",
      "\n"
     ]
    },
    {
     "name": "stdout",
     "output_type": "stream",
     "text": [
      "Blender 4.5.3 LTS (hash 67807e1800cc built 2025-09-09 01:33:33)\n",
      "Error: Please select a file\n",
      "\n",
      "Blender quit\n"
     ]
    },
    {
     "name": "stderr",
     "output_type": "stream",
     "text": [
      "Traceback (most recent call last):\n",
      "  File \"c:\\Users\\ucodia\\mycologue\\create-preview.py\", line 76, in <module>\n",
      "    bpy.ops.import_scene.gltf(filepath=model_path)\n",
      "  File \"C:\\Program Files\\Blender Foundation\\Blender 4.5\\4.5\\scripts\\modules\\bpy\\ops.py\", line 109, in __call__\n",
      "    ret = _op_call(self.idname_py(), kw)\n",
      "          ^^^^^^^^^^^^^^^^^^^^^^^^^^^^^^\n",
      "RuntimeError: Error: Please select a file\n",
      "\n"
     ]
    },
    {
     "name": "stdout",
     "output_type": "stream",
     "text": [
      "Blender 4.5.3 LTS (hash 67807e1800cc built 2025-09-09 01:33:33)\n",
      "Error: Please select a file\n",
      "\n",
      "Blender quit\n"
     ]
    },
    {
     "name": "stderr",
     "output_type": "stream",
     "text": [
      "Traceback (most recent call last):\n",
      "  File \"c:\\Users\\ucodia\\mycologue\\create-preview.py\", line 76, in <module>\n",
      "    bpy.ops.import_scene.gltf(filepath=model_path)\n",
      "  File \"C:\\Program Files\\Blender Foundation\\Blender 4.5\\4.5\\scripts\\modules\\bpy\\ops.py\", line 109, in __call__\n",
      "    ret = _op_call(self.idname_py(), kw)\n",
      "          ^^^^^^^^^^^^^^^^^^^^^^^^^^^^^^\n",
      "RuntimeError: Error: Please select a file\n",
      "\n"
     ]
    },
    {
     "name": "stdout",
     "output_type": "stream",
     "text": [
      "Blender 4.5.3 LTS (hash 67807e1800cc built 2025-09-09 01:33:33)\n",
      "Error: Please select a file\n",
      "\n",
      "Blender quit\n"
     ]
    },
    {
     "name": "stderr",
     "output_type": "stream",
     "text": [
      "Traceback (most recent call last):\n",
      "  File \"c:\\Users\\ucodia\\mycologue\\create-preview.py\", line 76, in <module>\n",
      "    bpy.ops.import_scene.gltf(filepath=model_path)\n",
      "  File \"C:\\Program Files\\Blender Foundation\\Blender 4.5\\4.5\\scripts\\modules\\bpy\\ops.py\", line 109, in __call__\n",
      "    ret = _op_call(self.idname_py(), kw)\n",
      "          ^^^^^^^^^^^^^^^^^^^^^^^^^^^^^^\n",
      "RuntimeError: Error: Please select a file\n",
      "\n"
     ]
    }
   ],
   "source": [
    "for input_model in input_models:\n",
    "    !blender --background --python create-preview.py -- --input {input_model} --output previews --overwrite"
   ]
  }
 ],
 "metadata": {
  "kernelspec": {
   "display_name": "mycologue (3.11.13)",
   "language": "python",
   "name": "python3"
  },
  "language_info": {
   "codemirror_mode": {
    "name": "ipython",
    "version": 3
   },
   "file_extension": ".py",
   "mimetype": "text/x-python",
   "name": "python",
   "nbconvert_exporter": "python",
   "pygments_lexer": "ipython3",
   "version": "3.11.13"
  }
 },
 "nbformat": 4,
 "nbformat_minor": 5
}
